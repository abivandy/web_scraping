{
 "cells": [
  {
   "cell_type": "code",
   "execution_count": 1,
   "metadata": {
    "collapsed": true
   },
   "outputs": [],
   "source": [
    "import selenium.webdriver\n",
    "import bs4 as bs\n",
    "import time\n",
    "\n",
    "def load_page(url=\"https://www.reddit.com/r/prolife\"):\n",
    "    driver.get(url)\n",
    "\n",
    "    SCROLL_PAUSE_TIME = 0.5\n",
    "\n",
    "    # Get scroll height\n",
    "    last_height = driver.execute_script(\"return document.body.scrollHeight\")\n",
    "\n",
    "    while True:\n",
    "        # Scroll down to bottom\n",
    "        driver.execute_script(\"window.scrollTo(0, document.body.scrollHeight);\")\n",
    "\n",
    "        # Wait to load page\n",
    "        time.sleep(SCROLL_PAUSE_TIME)\n",
    "\n",
    "        # Calculate new scroll height and compare with last scroll height\n",
    "        new_height = driver.execute_script(\"return document.body.scrollHeight\")\n",
    "        if new_height == last_height:\n",
    "            break\n",
    "        last_height = new_height\n",
    "\n",
    "    soup = bs.BeautifulSoup(driver.page_source,\"html.parser\")\n",
    "\n",
    "    links = []\n",
    "    for link in soup.find_all(\"a\",{\"data-click-id\":\"body\"}):\n",
    "        if link.has_attr('href'):\n",
    "            if \"/prolife/comments\" in link[\"href\"]:\n",
    "                links.append(link['href'])\n",
    "    return links\n",
    "\n",
    "\n",
    "def get_data(text,f):\n",
    "    html = bs.BeautifulSoup(text)\n",
    "    comments =  html.find_all(\"div\",{'class': re.compile(\".*s136il31-0.*\")})\n",
    "\n",
    "    for com in comments:\n",
    "        #print(com)\n",
    "        level = len(com.find_all(\"div\",{\"class\": re.compile(\".*efNcNS.*\")}))\n",
    "        com = com.find(\"div\",{'class': re.compile('.*bbMwOF')})\n",
    "\n",
    "        user = com.find(\"a\",{\"href\": re.compile(\".*user.*\")}).text\n",
    "        comment = \" \".join([_.text for _ in com.find_all(\"p\",{\"class\": re.compile(\".*iEJDri.*\")})])\n",
    "        points = com.find(\"span\",{\"class\": re.compile(\".*cFQOcm.*\")}).text[:-7]\n",
    "        \n",
    "\n",
    "        f.write(\"{}\\t{}\\t{}\\t{}\\n\".format(user,level,points,comment.replace(\"\\t\",\" \").replace(\"\\n\",\" \").replace(\"\\r\",\" \")))\n",
    "        \n",
    "        \n",
    "\n",
    "def main(reddit_group):\n",
    "    driver = selenium.webdriver.Chrome(executable_path=\"./chromedriver\")\n",
    "    links = load_page(reddit_group)\n",
    "    \n",
    "    time.sleep(10)\n",
    "\n",
    "    with open(\"./results.csv\",\"w+\") as f:\n",
    "        for link in links:\n",
    "            url = \"https://www.reddit.com\" + link\n",
    "            driver.get(url)\n",
    "            get_data(driver.page_source,f)"
   ]
  },
  {
   "cell_type": "code",
   "execution_count": null,
   "metadata": {
    "collapsed": true
   },
   "outputs": [],
   "source": [
    "main(\"https://www.reddit.com/r/prolife\")"
   ]
  }
 ],
 "metadata": {
  "anaconda-cloud": {},
  "kernelspec": {
   "display_name": "Python [conda env:anaconda3]",
   "language": "python",
   "name": "conda-env-anaconda3-py"
  },
  "language_info": {
   "codemirror_mode": {
    "name": "ipython",
    "version": 3
   },
   "file_extension": ".py",
   "mimetype": "text/x-python",
   "name": "python",
   "nbconvert_exporter": "python",
   "pygments_lexer": "ipython3",
   "version": "3.5.2"
  }
 },
 "nbformat": 4,
 "nbformat_minor": 1
}
